{
  "nbformat": 4,
  "nbformat_minor": 0,
  "metadata": {
    "colab": {
      "provenance": [],
      "authorship_tag": "ABX9TyM7R6lte6VhR5byAMh4mB1q",
      "include_colab_link": true
    },
    "kernelspec": {
      "name": "python3",
      "display_name": "Python 3"
    },
    "language_info": {
      "name": "python"
    }
  },
  "cells": [
    {
      "cell_type": "markdown",
      "metadata": {
        "id": "view-in-github",
        "colab_type": "text"
      },
      "source": [
        "<a href=\"https://colab.research.google.com/github/KaustubhPendharkar/Colab-samples/blob/Trial/00_Keras_Basics.ipynb\" target=\"_parent\"><img src=\"https://colab.research.google.com/assets/colab-badge.svg\" alt=\"Open In Colab\"/></a>"
      ]
    },
    {
      "cell_type": "code",
      "execution_count": 5,
      "metadata": {
        "colab": {
          "base_uri": "https://localhost:8080/"
        },
        "id": "svqAd5hBHwaa",
        "outputId": "a0b82885-9348-43ab-f328-3c4b436a6dc3"
      },
      "outputs": [
        {
          "output_type": "stream",
          "name": "stdout",
          "text": [
            "Tesla PROPN nsubj\n",
            "is AUX aux\n",
            "looking VERB ROOT\n",
            "at ADP prep\n",
            "buying VERB pcomp\n",
            "U.S. PROPN compound\n",
            "startup NOUN dobj\n",
            "for ADP prep\n",
            "$ SYM quantmod\n",
            "6 NUM compound\n",
            "million NUM pobj\n"
          ]
        }
      ],
      "source": [
        "# Import spaCy and load the language library\n",
        "import spacy\n",
        "\n",
        "#nlp = spacy.load('en_core_web_sm')\n",
        "import en_core_web_sm\n",
        "nlp = en_core_web_sm.load()\n",
        "\n",
        "# Create a Doc object\n",
        "doc = nlp(u'Tesla is looking at buying U.S. startup for $6 million')\n",
        "\n",
        "# Print each token separately\n",
        "for token in doc:\n",
        "    print(token.text, token.pos_, token.dep_)"
      ]
    },
    {
      "cell_type": "code",
      "source": [],
      "metadata": {
        "id": "e5O0Iq3pz1Dy"
      },
      "execution_count": null,
      "outputs": []
    },
    {
      "cell_type": "code",
      "source": [],
      "metadata": {
        "id": "mQ0p_tcEyMl0"
      },
      "execution_count": 5,
      "outputs": []
    },
    {
      "cell_type": "code",
      "source": [],
      "metadata": {
        "id": "X1NWBzriyMt8"
      },
      "execution_count": null,
      "outputs": []
    },
    {
      "cell_type": "code",
      "source": [],
      "metadata": {
        "id": "p9CRoDZyyM1V"
      },
      "execution_count": null,
      "outputs": []
    },
    {
      "cell_type": "code",
      "source": [],
      "metadata": {
        "id": "YeCVmGCLyM4N"
      },
      "execution_count": null,
      "outputs": []
    },
    {
      "cell_type": "code",
      "source": [
        "import pandas as pd\n",
        "import tensorflow as tf\n",
        "from matplotlib import pyplot as plt"
      ],
      "metadata": {
        "id": "e7Myn5pfyM60"
      },
      "execution_count": null,
      "outputs": []
    },
    {
      "cell_type": "code",
      "source": [
        "#@title Define the function that builds & trains model\n",
        "\n",
        "def build_model (my_learning_rate) :\n",
        "  \"\"\" Create and build simple linear regression model\"\"\"\n",
        "  # Most simple tf.keras models are Sequential\n",
        "  # A sequential model contains one or more layer\n",
        "  model = tf.keras.models.Sequential()\n",
        "\n",
        "  # Describe the topography of the model\n",
        "  # The topography of a simple linear regression model is a single nore in a single layer\n",
        "  model.add(tf.keras.layers.Dense(units=1,\n",
        "                                  input_shape=(1,)))\n",
        "\n",
        "  # Compile the model topography into code that TensorFlow can efficiently execute.\n",
        "  # Configure training to minimize the models's mean squared error.\n",
        "  model.compile (optimizer=tf.keras.optimizers.experimental.RMSprop(learning_rate=my_learning_rate),\n",
        "                 loss=\"mean_squared_error\",\n",
        "                 metrics=[tf.keras.metrics.RootMeanSquaredError()])\n",
        "\n",
        "  return model\n",
        "\n",
        "def train_model (model, feature, label, epochs, batch_size) :\n",
        "  \"\"\"Train the model by feeding the date\"\"\"\n",
        "\n",
        "  # Feed the feature values and the label values to the model.\n",
        "  # The model will train for the specified number of epochs, gradually learning how the feature values relate to label values.\n",
        "  history = model.fit (x=feature,\n",
        "                       y=label,\n",
        "                       batch_size=batch_size,\n",
        "                       epochs=epochs)\n",
        "\n",
        "  # Gather the trained model weight & bias.\n",
        "  trained_weight = model.get_weights()[0]\n",
        "  trainined_bias = model.get_weights()[1]\n",
        "\n",
        "  # The list of epochs is stored separately from the rest of the history.\n",
        "  epochs=history.epoch\n",
        "\n",
        "  # Gather the history (a snapshot) of each epoch.\n",
        "  hist = pd.DataFrame(history.history)\n",
        "\n",
        "  # Specifically gather the model's roo tmean squared error at each epoch.\n",
        "  rmse = hist[\"root_mean_squared_error\"]\n",
        "\n",
        "  return trained_weight, trainined_bias, epochs, rmse\n",
        "\n",
        "print (\"Defined build_model and train_model\")\n",
        "\n"
      ],
      "metadata": {
        "colab": {
          "base_uri": "https://localhost:8080/"
        },
        "id": "Y72p9bOkyM9z",
        "outputId": "82cb06e6-51de-4a06-9f3d-a0e0cf5960b7"
      },
      "execution_count": 6,
      "outputs": [
        {
          "output_type": "stream",
          "name": "stdout",
          "text": [
            "Defined build_model and train_model\n"
          ]
        }
      ]
    },
    {
      "cell_type": "code",
      "source": [
        "#@title Define the plotting function\n",
        "def plot_the_model (trained_weight, trained_bias, feature, label) :\n",
        "  \"\"\" Plot the trained model against the training feature and label. \"\"\"\n",
        "\n",
        "  # Label the axes.\n",
        "  plt.xlabel (\"feature\")\n",
        "  plt.ylabel(\"label\")\n",
        "\n",
        "  # Plot the feature values vs label values\n",
        "  plt"
      ],
      "metadata": {
        "id": "s8kj8XBYzAQW"
      },
      "execution_count": null,
      "outputs": []
    }
  ]
}